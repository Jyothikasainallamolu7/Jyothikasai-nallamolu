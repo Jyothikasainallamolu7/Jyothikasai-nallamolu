{
  "nbformat": 4,
  "nbformat_minor": 0,
  "metadata": {
    "colab": {
      "name": "Untitled4.ipynb",
      "provenance": [],
      "authorship_tag": "ABX9TyN9U/q3c6a8ym2l1NoIqm63",
      "include_colab_link": true
    },
    "kernelspec": {
      "name": "python3",
      "display_name": "Python 3"
    },
    "language_info": {
      "name": "python"
    }
  },
  "cells": [
    {
      "cell_type": "markdown",
      "metadata": {
        "id": "view-in-github",
        "colab_type": "text"
      },
      "source": [
        "<a href=\"https://colab.research.google.com/github/Jyothikasainallamolu7/Jyothikasai-nallamolu/blob/main/jyothika.ipynb\" target=\"_parent\"><img src=\"https://colab.research.google.com/assets/colab-badge.svg\" alt=\"Open In Colab\"/></a>"
      ]
    },
    {
      "cell_type": "code",
      "metadata": {
        "id": "7E-iabsJEu_8"
      },
      "source": [
        "from keras datasets import mnist\n",
        " \n",
        "data=mnist.load_data()"
      ],
      "execution_count": null,
      "outputs": []
    },
    {
      "cell_type": "code",
      "metadata": {
        "id": "BFeUEys_E_c8"
      },
      "source": [
        "((x_train,y_train),(x_test,y_test))=data"
      ],
      "execution_count": null,
      "outputs": []
    },
    {
      "cell_type": "code",
      "metadata": {
        "id": "LCwOFUSAFK2t"
      },
      "source": [
        "x_train=x_train.reshape((x_train.shape[0],28*28)).astype('float32')\n",
        "X_test=x_test.reshape((x_test.shape[0],28*28)).astype('float32')"
      ],
      "execution_count": null,
      "outputs": []
    },
    {
      "cell_type": "code",
      "metadata": {
        "id": "0L4a9OsNFpg7"
      },
      "source": [
        "X_train=x_train/255\n",
        "X_test=x_test/255"
      ],
      "execution_count": null,
      "outputs": []
    },
    {
      "cell_type": "code",
      "metadata": {
        "id": "Jd26gM36Fxpf"
      },
      "source": [
        "from keras.utils importnp_utils\n",
        " \n",
        "Print(y_test.shape)\n",
        "\n",
        "Y_train{np_untils.to_categorical(y_train)\n",
        "Y_test=np_untils.to_categorical(y_test)\n",
        "\n",
        "nym_classes_y_test.shape[1\n",
        "print(y_test.shape]"
      ],
      "execution_count": null,
      "outputs": []
    },
    {
      "cell_type": "code",
      "metadata": {
        "id": "DDmQ2_9JF7AH"
      },
      "source": [
        "from keras.mosel import sequential\n",
        "from keras.layers import Dense"
      ],
      "execution_count": null,
      "outputs": []
    },
    {
      "cell_type": "code",
      "metadata": {
        "id": "I_guNpJ6Gi4s"
      },
      "source": [
        "model=sequential ()\n",
        "model.afd(Dense(32,input_dim=28*28,activation='relu'))\n",
        " \n",
        "model.add(Dense(64, activation='relu'))\n",
        "model.add(Dense(10, activation='softmax'"
      ],
      "execution_count": null,
      "outputs": []
    },
    {
      "cell_type": "code",
      "metadata": {
        "id": "PsoBv6rbHLCg"
      },
      "source": [
        "model.compike(loss='categorical_crossentropy',optumizer='adam',metrics=['accuracy'])"
      ],
      "execution_count": null,
      "outputs": []
    },
    {
      "cell_type": "code",
      "metadata": {
        "id": "AVlscKCGHiAw"
      },
      "source": [
        "model.summary()"
      ],
      "execution_count": null,
      "outputs": []
    },
    {
      "cell_type": "code",
      "metadata": {
        "id": "KdQBn4jhHkyB"
      },
      "source": [
        "model fit(x_train,y_train,epochs=10,batch_size=100)"
      ],
      "execution_count": null,
      "outputs": []
    },
    {
      "cell_type": "code",
      "metadata": {
        "id": "ig9wGEOsHxdH"
      },
      "source": [
        "Scores=model.evaluate(x_test,y_test)\n",
        "Print (scores)"
      ],
      "execution_count": null,
      "outputs": []
    }
  ]
}